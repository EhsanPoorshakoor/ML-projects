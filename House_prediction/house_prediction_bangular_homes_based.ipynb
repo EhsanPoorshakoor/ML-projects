{
  "nbformat": 4,
  "nbformat_minor": 0,
  "metadata": {
    "colab": {
      "name": "house_prediction_bangular_homes_based.ipynb",
      "provenance": [],
      "collapsed_sections": []
    },
    "kernelspec": {
      "name": "python3",
      "display_name": "Python 3"
    },
    "language_info": {
      "name": "python"
    }
  },
  "cells": [
    {
      "cell_type": "code",
      "metadata": {
        "id": "eUtMhztYM7Jr"
      },
      "source": [
        "import pandas as pd\n",
        "import numpy as np\n",
        "import matplotlib.pyplot as plt\n",
        "% matplotlib inline"
      ],
      "execution_count": 139,
      "outputs": []
    },
    {
      "cell_type": "markdown",
      "metadata": {
        "id": "P3NCQHUYSS5Z"
      },
      "source": [
        "**drop unimportant column**"
      ]
    },
    {
      "cell_type": "code",
      "metadata": {
        "id": "b4u_LNqkNSE0"
      },
      "source": [
        "house_data = pd.read_csv('/content/drive/MyDrive/یادگیری ماشین/archive/Bengaluru_House_Data.csv')\n",
        "#house_data.head(4)"
      ],
      "execution_count": 140,
      "outputs": []
    },
    {
      "cell_type": "code",
      "metadata": {
        "id": "FdW3LbaNQw3Z"
      },
      "source": [
        "house_data.drop(['area_type' , 'availability','society','balcony'] , axis=1 , inplace=True)"
      ],
      "execution_count": 141,
      "outputs": []
    },
    {
      "cell_type": "code",
      "metadata": {
        "id": "LjSStywaNrJ1"
      },
      "source": [
        "house_data.isna().sum()"
      ],
      "execution_count": null,
      "outputs": []
    },
    {
      "cell_type": "code",
      "metadata": {
        "id": "tSMH1UofOZZj"
      },
      "source": [
        "house_data.dropna(inplace=True)"
      ],
      "execution_count": 143,
      "outputs": []
    },
    {
      "cell_type": "code",
      "metadata": {
        "id": "ngI7BE19OCms"
      },
      "source": [
        "#house_data.isna().sum()"
      ],
      "execution_count": 144,
      "outputs": []
    },
    {
      "cell_type": "code",
      "metadata": {
        "id": "aAj2RT44O9oh"
      },
      "source": [
        "#house_data.head(3)"
      ],
      "execution_count": 145,
      "outputs": []
    },
    {
      "cell_type": "code",
      "metadata": {
        "id": "T2g3Vix_PCN1"
      },
      "source": [
        "house_data.shape"
      ],
      "execution_count": null,
      "outputs": []
    },
    {
      "cell_type": "code",
      "metadata": {
        "id": "angJyJZgPNFH"
      },
      "source": [
        "house_data['size'].unique()"
      ],
      "execution_count": null,
      "outputs": []
    },
    {
      "cell_type": "code",
      "metadata": {
        "id": "W3DgfaFmPWjj"
      },
      "source": [
        "house_data.info()"
      ],
      "execution_count": null,
      "outputs": []
    },
    {
      "cell_type": "markdown",
      "metadata": {
        "id": "uPGhUB6kSaXY"
      },
      "source": [
        "**convert object columns  to numric ones type**"
      ]
    },
    {
      "cell_type": "code",
      "metadata": {
        "id": "21S3LzfTRe3J"
      },
      "source": [
        "house_data.bath.unique()"
      ],
      "execution_count": null,
      "outputs": []
    },
    {
      "cell_type": "code",
      "metadata": {
        "id": "u-PLa2yNRwGX"
      },
      "source": [
        "# bath column\n",
        "house_data.bath.astype('float32')"
      ],
      "execution_count": null,
      "outputs": []
    },
    {
      "cell_type": "code",
      "metadata": {
        "id": "H8-uovXYTJHl"
      },
      "source": [
        "def is_float(x):\n",
        "    try:\n",
        "        float(x)\n",
        "    except:\n",
        "        return False\n",
        "    return True"
      ],
      "execution_count": 200,
      "outputs": []
    },
    {
      "cell_type": "code",
      "metadata": {
        "id": "Iq23JfKuTKUj"
      },
      "source": [
        "#show data that can not be convert to float easily\n",
        "house_data[~ house_data['total_sqft'].apply(is_float)]"
      ],
      "execution_count": null,
      "outputs": []
    },
    {
      "cell_type": "code",
      "metadata": {
        "id": "W2rI8TvFTYyw"
      },
      "source": [
        "def edit_total_sqft(y):\n",
        "  range_nums = y.split('-')\n",
        "  if len(range_nums) ==2:\n",
        "    mean_num = (float(range_nums[0]) + float(range_nums[1])) / 2\n",
        "    return mean_num\n",
        "  try:\n",
        "      return float(y)\n",
        "  except:\n",
        "    return None"
      ],
      "execution_count": 153,
      "outputs": []
    },
    {
      "cell_type": "code",
      "metadata": {
        "id": "JqysI9wPXCVM"
      },
      "source": [
        "df_house = house_data.copy()\n",
        "df_house['total_sqft'] = df_house['total_sqft'].apply(edit_total_sqft)"
      ],
      "execution_count": 154,
      "outputs": []
    },
    {
      "cell_type": "code",
      "metadata": {
        "id": "QOygRRVYYPab"
      },
      "source": [
        "df_house.dropna(inplace=True)"
      ],
      "execution_count": 155,
      "outputs": []
    },
    {
      "cell_type": "code",
      "metadata": {
        "id": "5KexjvfwhmC8"
      },
      "source": [
        "def edit_size(z):\n",
        "  num = z.split()\n",
        "  return float(num[0])"
      ],
      "execution_count": 156,
      "outputs": []
    },
    {
      "cell_type": "code",
      "metadata": {
        "id": "B7a_jJaAhc3a"
      },
      "source": [
        "bedroom = df_house['size'].apply(edit_size)\n",
        "df_house['bedroom'] = bedroom"
      ],
      "execution_count": 157,
      "outputs": []
    },
    {
      "cell_type": "code",
      "metadata": {
        "id": "c0w7pV0WiX05"
      },
      "source": [
        "df_house.head()\n",
        "df_house.isna().sum()"
      ],
      "execution_count": null,
      "outputs": []
    },
    {
      "cell_type": "code",
      "metadata": {
        "id": "Xva1cegUidol",
        "colab": {
          "base_uri": "https://localhost:8080/",
          "height": 206
        },
        "outputId": "e259cb62-329d-4176-e3fa-3b20a23dd01d"
      },
      "source": [
        "df_house.head()"
      ],
      "execution_count": 159,
      "outputs": [
        {
          "output_type": "execute_result",
          "data": {
            "text/html": [
              "<div>\n",
              "<style scoped>\n",
              "    .dataframe tbody tr th:only-of-type {\n",
              "        vertical-align: middle;\n",
              "    }\n",
              "\n",
              "    .dataframe tbody tr th {\n",
              "        vertical-align: top;\n",
              "    }\n",
              "\n",
              "    .dataframe thead th {\n",
              "        text-align: right;\n",
              "    }\n",
              "</style>\n",
              "<table border=\"1\" class=\"dataframe\">\n",
              "  <thead>\n",
              "    <tr style=\"text-align: right;\">\n",
              "      <th></th>\n",
              "      <th>location</th>\n",
              "      <th>size</th>\n",
              "      <th>total_sqft</th>\n",
              "      <th>bath</th>\n",
              "      <th>price</th>\n",
              "      <th>bedroom</th>\n",
              "    </tr>\n",
              "  </thead>\n",
              "  <tbody>\n",
              "    <tr>\n",
              "      <th>0</th>\n",
              "      <td>Electronic City Phase II</td>\n",
              "      <td>2 BHK</td>\n",
              "      <td>1056.0</td>\n",
              "      <td>2.0</td>\n",
              "      <td>39.07</td>\n",
              "      <td>2.0</td>\n",
              "    </tr>\n",
              "    <tr>\n",
              "      <th>1</th>\n",
              "      <td>Chikka Tirupathi</td>\n",
              "      <td>4 Bedroom</td>\n",
              "      <td>2600.0</td>\n",
              "      <td>5.0</td>\n",
              "      <td>120.00</td>\n",
              "      <td>4.0</td>\n",
              "    </tr>\n",
              "    <tr>\n",
              "      <th>2</th>\n",
              "      <td>Uttarahalli</td>\n",
              "      <td>3 BHK</td>\n",
              "      <td>1440.0</td>\n",
              "      <td>2.0</td>\n",
              "      <td>62.00</td>\n",
              "      <td>3.0</td>\n",
              "    </tr>\n",
              "    <tr>\n",
              "      <th>3</th>\n",
              "      <td>Lingadheeranahalli</td>\n",
              "      <td>3 BHK</td>\n",
              "      <td>1521.0</td>\n",
              "      <td>3.0</td>\n",
              "      <td>95.00</td>\n",
              "      <td>3.0</td>\n",
              "    </tr>\n",
              "    <tr>\n",
              "      <th>4</th>\n",
              "      <td>Kothanur</td>\n",
              "      <td>2 BHK</td>\n",
              "      <td>1200.0</td>\n",
              "      <td>2.0</td>\n",
              "      <td>51.00</td>\n",
              "      <td>2.0</td>\n",
              "    </tr>\n",
              "  </tbody>\n",
              "</table>\n",
              "</div>"
            ],
            "text/plain": [
              "                   location       size  total_sqft  bath   price  bedroom\n",
              "0  Electronic City Phase II      2 BHK      1056.0   2.0   39.07      2.0\n",
              "1          Chikka Tirupathi  4 Bedroom      2600.0   5.0  120.00      4.0\n",
              "2               Uttarahalli      3 BHK      1440.0   2.0   62.00      3.0\n",
              "3        Lingadheeranahalli      3 BHK      1521.0   3.0   95.00      3.0\n",
              "4                  Kothanur      2 BHK      1200.0   2.0   51.00      2.0"
            ]
          },
          "metadata": {},
          "execution_count": 159
        }
      ]
    },
    {
      "cell_type": "code",
      "metadata": {
        "id": "bX_tDOP9YB7Z"
      },
      "source": [
        "price_per_square = (df_house.price * 30000 / df_house.total_sqft)\n",
        "df_house['price_sqft'] = price_per_square "
      ],
      "execution_count": 160,
      "outputs": []
    },
    {
      "cell_type": "markdown",
      "metadata": {
        "id": "Mw1EGsg2kLkG"
      },
      "source": [
        "**handling unbalanced and  outliers** "
      ]
    },
    {
      "cell_type": "code",
      "metadata": {
        "id": "DyATaAXDihZq"
      },
      "source": [
        "df_house[df_house.bath == 40]"
      ],
      "execution_count": null,
      "outputs": []
    },
    {
      "cell_type": "code",
      "metadata": {
        "id": "cHAcmzyRW4ih"
      },
      "source": [
        "def remove_pps_outliers(df):\n",
        "    df_out = pd.DataFrame()\n",
        "    for key, subdf in df.groupby('location'):\n",
        "        mean_price = np.mean(subdf.price_sqft)\n",
        "        strandard_deviation = np.std(subdf.price_sqft)\n",
        "        reduced_df = subdf[(subdf.price_sqft>(mean_price-strandard_deviation)) & (subdf.price_sqft<=(mean_price+strandard_deviation))]\n",
        "        df_out = pd.concat([df_out,reduced_df],ignore_index=True)\n",
        "    return df_out"
      ],
      "execution_count": 162,
      "outputs": []
    },
    {
      "cell_type": "code",
      "metadata": {
        "id": "E2NbnOTvZ27Q"
      },
      "source": [
        "df_house2 = remove_pps_outliers(df_house)"
      ],
      "execution_count": 163,
      "outputs": []
    },
    {
      "cell_type": "code",
      "metadata": {
        "id": "uio5BdRVauH3"
      },
      "source": [
        "df_house2.head()"
      ],
      "execution_count": null,
      "outputs": []
    },
    {
      "cell_type": "code",
      "metadata": {
        "id": "GRhr7NjabNoc"
      },
      "source": [
        "def remove_bedroom_outliers(df):\n",
        "    exclude_indices = np.array([])\n",
        "    for location, location_df in df.groupby('location'):\n",
        "        bhk_stats = {}\n",
        "        for bhk, bhk_df in location_df.groupby('bedroom'):\n",
        "            bhk_stats[bhk] = {\n",
        "                'mean': np.mean(bhk_df.price_sqft),\n",
        "                'std': np.std(bhk_df.price_sqft),\n",
        "                'count': bhk_df.shape[0]\n",
        "            }\n",
        "        for bhk, bhk_df in location_df.groupby('bedroom'):\n",
        "            stats = bhk_stats.get(bhk-1)\n",
        "            if stats and stats['count']>5:\n",
        "                exclude_indices = np.append(exclude_indices, bhk_df[bhk_df.price_sqft<(stats['mean'])].index.values)\n",
        "    return df.drop(exclude_indices,axis='index')"
      ],
      "execution_count": 166,
      "outputs": []
    },
    {
      "cell_type": "code",
      "metadata": {
        "id": "2oDWheJpbhkS"
      },
      "source": [
        "df_house3 = remove_bedroom_outliers(df_house2)"
      ],
      "execution_count": 167,
      "outputs": []
    },
    {
      "cell_type": "code",
      "metadata": {
        "id": "BNh0_p1QbosZ"
      },
      "source": [
        "df_house3.head()"
      ],
      "execution_count": null,
      "outputs": []
    },
    {
      "cell_type": "code",
      "metadata": {
        "id": "nKrHAjexb3r_"
      },
      "source": [
        "# handle location data\n",
        "loc_stat = df_house3['location'].value_counts()\n",
        "loc_less_than_10 = loc_stat[loc_stat <= 10]\n",
        "df_house['location'] = df_house3['location'].apply(lambda z : 'other' if z in loc_less_than_10  else z)\n",
        "\n",
        "numric_addres = pd.get_dummies(df_house3['location'])\n",
        "numric_house_df = pd.concat([df_house3,numric_addres] , axis='columns')"
      ],
      "execution_count": 169,
      "outputs": []
    },
    {
      "cell_type": "code",
      "metadata": {
        "id": "mfYk6wD7cLmN"
      },
      "source": [
        "numric_house_df.head()"
      ],
      "execution_count": null,
      "outputs": []
    },
    {
      "cell_type": "markdown",
      "metadata": {
        "id": "CsDFVs4Hco0F"
      },
      "source": [
        "**split data**"
      ]
    },
    {
      "cell_type": "code",
      "metadata": {
        "id": "XNCPk5iccxez"
      },
      "source": [
        "X = numric_house_df.drop(['location','size','price'] , axis=\"columns\")\n",
        "Y = numric_house_df.price"
      ],
      "execution_count": 171,
      "outputs": []
    },
    {
      "cell_type": "markdown",
      "metadata": {
        "id": "v4_8adB4hQH3"
      },
      "source": [
        "**Hyperparameter tuning** "
      ]
    },
    {
      "cell_type": "code",
      "metadata": {
        "id": "-TcPTXpDek09"
      },
      "source": [
        "from sklearn.model_selection import GridSearchCV\n",
        "\n",
        "from sklearn.linear_model import Lasso\n",
        "from sklearn.tree import DecisionTreeRegressor\n",
        "\n",
        "from sklearn.model_selection import ShuffleSplit\n",
        "def find_best_model_using_gridsearchcv(X,Y):\n",
        "    algos = {\n",
        "        'linear_regression' : {\n",
        "            'model': LinearRegression(),\n",
        "            'params': {\n",
        "                'normalize': [True, False]\n",
        "            }\n",
        "        },\n",
        "        'lasso': {\n",
        "            'model': Lasso(),\n",
        "            'params': {\n",
        "                'alpha': [1,2],\n",
        "                'selection': ['random', 'cyclic']\n",
        "            }\n",
        "        },\n",
        "        'decision_tree': {\n",
        "            'model': DecisionTreeRegressor(),\n",
        "            'params': {\n",
        "                'criterion' : ['mse','friedman_mse'],\n",
        "                'splitter': ['best','random']\n",
        "            }\n",
        "        }\n",
        "    }\n",
        "    scores = []\n",
        "    cv = ShuffleSplit(n_splits=5, test_size=0.2, random_state=0)\n",
        "    for algo_name, config in algos.items():\n",
        "        gs =  GridSearchCV(config['model'], config['params'], cv=cv, return_train_score=False)\n",
        "        gs.fit(X,Y)\n",
        "        scores.append({\n",
        "            'model': algo_name,\n",
        "            'best_score': gs.best_score_,\n",
        "            'best_params': gs.best_params_\n",
        "        })\n",
        "\n",
        "    return pd.DataFrame(scores,columns=['model','best_score','best_params'])\n",
        "find_best_model_using_gridsearchcv(X,Y)"
      ],
      "execution_count": null,
      "outputs": []
    },
    {
      "cell_type": "code",
      "metadata": {
        "id": "pyRSHgcacrTO"
      },
      "source": [
        "from sklearn.model_selection import train_test_split\n",
        "x_train , x_test , y_train , y_test = train_test_split(X,Y , test_size=0.15)"
      ],
      "execution_count": 172,
      "outputs": []
    },
    {
      "cell_type": "markdown",
      "metadata": {
        "id": "m6Iquo_DhfnE"
      },
      "source": [
        "**bulid the model**"
      ]
    },
    {
      "cell_type": "code",
      "metadata": {
        "id": "xojxNNnedPt7"
      },
      "source": [
        "from sklearn.tree import DecisionTreeRegressor\n",
        "reg = DecisionTreeRegressor(criterion='mse' , splitter='best')\n",
        "reg.fit(x_train , y_train)"
      ],
      "execution_count": null,
      "outputs": []
    },
    {
      "cell_type": "code",
      "metadata": {
        "id": "99g1R3Tqda6e"
      },
      "source": [
        "reg.score(x_test , y_test)"
      ],
      "execution_count": null,
      "outputs": []
    },
    {
      "cell_type": "code",
      "metadata": {
        "id": "z-0ypIYgdfEp"
      },
      "source": [
        "y_hat = reg.predict(x_test)\n",
        "y_hat[:5]"
      ],
      "execution_count": null,
      "outputs": []
    },
    {
      "cell_type": "code",
      "metadata": {
        "id": "7xTspaH7dkNd"
      },
      "source": [
        "y_test[:5]"
      ],
      "execution_count": null,
      "outputs": []
    },
    {
      "cell_type": "markdown",
      "metadata": {
        "id": "kpUOO-1PiwoX"
      },
      "source": [
        "**save model** "
      ]
    },
    {
      "cell_type": "code",
      "metadata": {
        "id": "czUscOt-g1NQ"
      },
      "source": [
        "pip install pickle5\n"
      ],
      "execution_count": null,
      "outputs": []
    },
    {
      "cell_type": "code",
      "metadata": {
        "id": "guSeBff-icuS"
      },
      "source": [
        "import pickle5"
      ],
      "execution_count": 203,
      "outputs": []
    },
    {
      "cell_type": "code",
      "metadata": {
        "id": "3qRXIJYPiE1L"
      },
      "source": [
        "filename = '/content/drive/MyDrive/یادگیری ماشین/prediction_house_model.sav'\n",
        "pickle5.dump(reg, open(filename, 'wb'))"
      ],
      "execution_count": 205,
      "outputs": []
    }
  ]
}